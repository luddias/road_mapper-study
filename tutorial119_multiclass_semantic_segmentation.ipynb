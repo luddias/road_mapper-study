{
  "cells": [
    {
      "attachments": {},
      "cell_type": "markdown",
      "metadata": {
        "colab_type": "text",
        "id": "view-in-github"
      },
      "source": [
        "<a href=\"https://colab.research.google.com/github/bnsreenu/python_for_image_processing_APEER/blob/master/tutorial119_multiclass_semantic_segmentation.ipynb\" target=\"_parent\"><img src=\"https://colab.research.google.com/assets/colab-badge.svg\" alt=\"Open In Colab\"/></a>"
      ]
    },
    {
      "attachments": {},
      "cell_type": "markdown",
      "metadata": {
        "id": "5jWYe6YIa1Ie"
      },
      "source": [
        "https://youtu.be/zpYq1gr1910"
      ]
    },
    {
      "attachments": {},
      "cell_type": "markdown",
      "metadata": {
        "id": "SscH4lze36iJ"
      },
      "source": [
        "**Multiclass semantic segmentation**\n",
        "\n",
        "\n",
        "The dataset used in this video can be downloaded from the link below. This dataset can be used to train and test machine learning algorithms designed for multiclass semantic segmentation. Please read the Readme document for more information. \n",
        "https://drive.google.com/file/d/1HWtBaSa-LTyAMgf2uaz1T9o1sTWDBajU/view?usp=sharing\n",
        "\n",
        "To annotate your own images, please visit www.apeer.com"
      ]
    },
    {
      "cell_type": "code",
      "execution_count": 2,
      "metadata": {},
      "outputs": [
        {
          "name": "stdout",
          "output_type": "stream",
          "text": [
            "Looking in indexes: https://pypi.org/simple, https://pypi.ngc.nvidia.com\n",
            "Collecting opencv-python\n",
            "  Downloading opencv_python-4.8.0.74-cp37-abi3-manylinux_2_17_x86_64.manylinux2014_x86_64.whl (61.7 MB)\n",
            "\u001b[2K     \u001b[90m━━━━━━━━━━━━━━━━━━━━━━━━━━━━━━━━━━━━━━━━\u001b[0m \u001b[32m61.7/61.7 MB\u001b[0m \u001b[31m8.1 MB/s\u001b[0m eta \u001b[36m0:00:00\u001b[0m00:01\u001b[0m00:01\u001b[0mm\n",
            "\u001b[?25hRequirement already satisfied: numpy>=1.21.2 in /home/lume/miniconda3/envs/tfgpu/lib/python3.10/site-packages (from opencv-python) (1.24.3)\n",
            "Installing collected packages: opencv-python\n",
            "Successfully installed opencv-python-4.8.0.74\n",
            "Note: you may need to restart the kernel to use updated packages.\n"
          ]
        }
      ],
      "source": [
        "%pip install opencv-python"
      ]
    },
    {
      "cell_type": "code",
      "execution_count": 1,
      "metadata": {
        "id": "I0NRq8jOY5bX"
      },
      "outputs": [],
      "source": [
        "#from keras.utils import normalize\n",
        "import os\n",
        "import glob\n",
        "import cv2\n",
        "import numpy as np\n",
        "from tqdm import tqdm\n",
        "from matplotlib import pyplot as plt\n",
        "from skimage.io import imread, imshow\n",
        "from skimage.transform import resize"
      ]
    },
    {
      "cell_type": "code",
      "execution_count": 2,
      "metadata": {
        "id": "3MJ7xjSDZDJZ"
      },
      "outputs": [],
      "source": [
        "#Resizing images, if needed\n",
        "SIZE_X = 128 \n",
        "SIZE_Y = 128\n",
        "\n",
        "\n",
        "SEED = 42\n",
        "np.random.seed = SEED\n",
        "\n",
        "\n",
        "TRAIN_PATH = 'DATASET/treino/'\n",
        "TEST_PATH_HIGHWAY = 'DATASET/teste/highway/'\n",
        "TEST_PATH_UFES = 'DATASET/teste/ufes/'\n",
        "\n",
        "IMG_CHANNELS = 1\n",
        "NUM_CLASSES = 17  # Número de classes"
      ]
    },
    {
      "cell_type": "code",
      "execution_count": 3,
      "metadata": {},
      "outputs": [],
      "source": [
        "# get list of all subfolders\n",
        "train_ids = next(os.walk(TRAIN_PATH))[1]\n",
        "test_ids_hw = next(os.walk(TEST_PATH_HIGHWAY))[1]\n",
        "test_ids_uf = next(os.walk(TEST_PATH_UFES))[1]"
      ]
    },
    {
      "cell_type": "code",
      "execution_count": 4,
      "metadata": {},
      "outputs": [],
      "source": [
        "# define placeholders (also used to replace NaN in images to resize by 0)\n",
        "X_train = np.zeros((len(train_ids), SIZE_Y, SIZE_X, IMG_CHANNELS), dtype = np.uint8)\n",
        "Y_train = np.zeros((len(train_ids), SIZE_Y, SIZE_X), dtype = np.uint8)\n",
        "\n",
        "# Create an empty array for test images with dimensions as (number of test images, height, width, channels)\n",
        "# The datatype for the array is uint8 which can hold values from 0 to 255\n",
        "X_test1 = np.zeros((len(test_ids_hw), SIZE_Y, SIZE_X, IMG_CHANNELS), dtype=np.uint8)\n",
        "Y_test1= np.zeros((len(test_ids_hw), SIZE_Y, SIZE_X, 1), dtype = np.uint8)\n",
        "\n",
        "# Create an empty array for test images with dimensions as (number of test images, height, width, channels)\n",
        "# The datatype for the array is uint8 which can hold values from 0 to 255\n",
        "X_test2 = np.zeros((len(test_ids_uf), SIZE_Y, SIZE_X, IMG_CHANNELS), dtype=np.uint8)\n",
        "Y_test2= np.zeros((len(test_ids_uf), SIZE_Y, SIZE_X, 1), dtype = np.uint8)"
      ]
    },
    {
      "cell_type": "code",
      "execution_count": 5,
      "metadata": {
        "id": "e-qxgNa8ZQ_H"
      },
      "outputs": [
        {
          "name": "stderr",
          "output_type": "stream",
          "text": [
            "100%|██████████| 15000/15000 [00:46<00:00, 323.15it/s]\n"
          ]
        }
      ],
      "source": [
        "# CARREGA IMAGENS PARA ARRAY DE TREINO\n",
        "\n",
        "# Loop through all train_ids\n",
        "for n, id_ in tqdm(enumerate(train_ids), total=len(train_ids)):  \n",
        "    \n",
        "    # Get the path to the image and mask directories\n",
        "    path = TRAIN_PATH + id_  \n",
        "    \n",
        "    # Read the image and keep the first IMG_CHANNELS channels\n",
        "    img = imread(path + '/images/i' + id_ + '.png', 0)[:, :, :IMG_CHANNELS]  \n",
        "    \n",
        "    # Resize the image to SIZE_Y x SIZE_X while keeping the pixel values (mode='constant')\n",
        "    img = resize(img, (SIZE_Y, SIZE_X), mode='constant', preserve_range=True)  \n",
        "    \n",
        "    # Store the processed image into the X_train array at index n\n",
        "    X_train[n] = img \n",
        "    \n",
        "    # Initialize an empty mask of dimensions SIZE_Y x SIZE_X x 1 with boolean values\n",
        "    mask = np.zeros((SIZE_Y, SIZE_X, 1), dtype = np.uint8)  \n",
        "    \n",
        "    # Loop through each file in the masks directory\n",
        "    for mask_file in next(os.walk(path + '/masks/'))[2]:  \n",
        "        \n",
        "        # Read the mask file\n",
        "        mask_ = imread(path + '/masks/' + mask_file, 0)\n",
        "        \n",
        "        # mask_ = rgb2gray(mask_)\n",
        "        \n",
        "        # Resize the mask to SIZE_Y x SIZE_X while keeping the pixel values (mode='constant'), and add an extra dimension\n",
        "        mask = resize(mask_, (SIZE_Y, SIZE_X), mode='constant', preserve_range=True)\n",
        "        \n",
        "    \n",
        "    # Store the processed mask into the Y_train array at index n\n",
        "    Y_train[n] = mask\n",
        "Y_train = np.expand_dims(Y_train, axis = 3)    "
      ]
    },
    {
      "cell_type": "code",
      "execution_count": 6,
      "metadata": {},
      "outputs": [],
      "source": [
        "# SALVAR ARRAYS DAS IMAGENS\n",
        "\n",
        "import pickle\n",
        "try:  \n",
        "    arquivo = open(\"bin/treinoX.bin\", \"wb\")\n",
        "    pickle.dump(X_train, arquivo)\n",
        "    arquivo.close()\n",
        "except:\n",
        "    print(\"Problemas com o arquivo treino.\")\n",
        "    \n",
        "try:  \n",
        "    arquivo = open(\"bin/treinoY.bin\", \"wb\")\n",
        "    pickle.dump(Y_train, arquivo)\n",
        "    arquivo.close()\n",
        "except:\n",
        "    print(\"Problemas com o arquivo teste.\")"
      ]
    },
    {
      "cell_type": "code",
      "execution_count": 3,
      "metadata": {},
      "outputs": [],
      "source": [
        "#  LOAD DOS ARRAYS SALVOS\n",
        "\n",
        "import pickle\n",
        "\n",
        "try:\n",
        "    arquivo = open(\"bin/treinoX.bin\", \"rb\")\n",
        "    X_train = pickle.load(arquivo)\n",
        "    arquivo.close()\n",
        "except:\n",
        "    print(\"Problemas com o arquivo treinox.\")\n",
        "    \n",
        "try:\n",
        "    arquivo = open(\"bin/treinoY.bin\", \"rb\")\n",
        "    Y_train = pickle.load(arquivo)\n",
        "    arquivo.close()\n",
        "except:\n",
        "    print(\"Problemas com o arquivo treinoy.\")"
      ]
    },
    {
      "cell_type": "code",
      "execution_count": 4,
      "metadata": {
        "id": "JMVZCMFPZGPX"
      },
      "outputs": [],
      "source": [
        "image_dataset = X_train\n",
        "mask_dataset = Y_train\n"
      ]
    },
    {
      "cell_type": "code",
      "execution_count": 5,
      "metadata": {
        "colab": {
          "base_uri": "https://localhost:8080/"
        },
        "id": "QzAouaVaZoVg",
        "outputId": "bf942f6f-1ff5-448b-beaa-44f01c523110"
      },
      "outputs": [
        {
          "name": "stdout",
          "output_type": "stream",
          "text": [
            "Image data shape is:  (15000, 128, 128, 1)\n",
            "Mask data shape is:  (15000, 128, 128, 1)\n",
            "Max pixel value in image is:  254\n",
            "Labels in the mask are :  [ 0  1  2  3  4  5  6  7  8  9 10 11 12 13 14 15 16]\n"
          ]
        }
      ],
      "source": [
        "print(\"Image data shape is: \", image_dataset.shape)\n",
        "print(\"Mask data shape is: \", mask_dataset.shape)\n",
        "print(\"Max pixel value in image is: \", image_dataset.max())\n",
        "print(\"Labels in the mask are : \", np.unique(mask_dataset))"
      ]
    },
    {
      "cell_type": "code",
      "execution_count": null,
      "metadata": {
        "colab": {
          "base_uri": "https://localhost:8080/"
        },
        "id": "ibHIDZGfZkTh",
        "outputId": "7a4e6ce5-7df7-49e0-e519-ab64f0ba1ec2"
      },
      "outputs": [
        {
          "name": "stderr",
          "output_type": "stream",
          "text": [
            "/usr/local/lib/python3.7/dist-packages/sklearn/preprocessing/_label.py:251: DataConversionWarning: A column-vector y was passed when a 1d array was expected. Please change the shape of y to (n_samples, ), for example using ravel().\n",
            "  y = column_or_1d(y, warn=True)\n"
          ]
        },
        {
          "data": {
            "text/plain": [
              "array([0, 1, 2, 3])"
            ]
          },
          "execution_count": 6,
          "metadata": {
            "tags": []
          },
          "output_type": "execute_result"
        }
      ],
      "source": [
        "#Encode labels to 0, 1, 2, 3, ... but multi dim array so need to flatten, encode and reshape\n",
        "from sklearn.preprocessing import LabelEncoder\n",
        "labelencoder = LabelEncoder()\n",
        "n, h, w = mask_dataset.shape  \n",
        "mask_dataset_reshaped = mask_dataset.reshape(-1,1)\n",
        "mask_dataset_reshaped_encoded = labelencoder.fit_transform(mask_dataset_reshaped)\n",
        "mask_dataset_encoded = mask_dataset_reshaped_encoded.reshape(n, h, w)\n",
        "\n",
        "np.unique(mask_dataset_encoded)"
      ]
    },
    {
      "cell_type": "code",
      "execution_count": null,
      "metadata": {
        "colab": {
          "base_uri": "https://localhost:8080/"
        },
        "id": "QDQ_8v3FhENA",
        "outputId": "af8a0fa2-0fac-43b5-ca97-5098f44d5e95"
      },
      "outputs": [
        {
          "name": "stdout",
          "output_type": "stream",
          "text": [
            "(200, 128, 128, 1)\n"
          ]
        }
      ],
      "source": [
        "mask_dataset_encoded = np.expand_dims(mask_dataset_encoded, axis = 3)\n",
        "print(mask_dataset_encoded.shape)"
      ]
    },
    {
      "cell_type": "code",
      "execution_count": 6,
      "metadata": {
        "id": "9SgFwOThZs_A"
      },
      "outputs": [],
      "source": [
        "#Normalize images\n",
        "image_dataset = image_dataset /255.  #Can also normalize or scale using MinMax scaler"
      ]
    },
    {
      "cell_type": "code",
      "execution_count": 7,
      "metadata": {
        "id": "IMZPM7edZ4nN"
      },
      "outputs": [],
      "source": [
        "#Split training data\n",
        "from sklearn.model_selection import train_test_split\n",
        "X_train, X_test, y_train, y_test = train_test_split(image_dataset, mask_dataset, test_size = 0.2, random_state = 42)"
      ]
    },
    {
      "cell_type": "code",
      "execution_count": 8,
      "metadata": {},
      "outputs": [
        {
          "ename": "",
          "evalue": "",
          "output_type": "error",
          "traceback": [
            "\u001b[1;31mCanceled future for execute_request message before replies were done"
          ]
        },
        {
          "ename": "",
          "evalue": "",
          "output_type": "error",
          "traceback": [
            "\u001b[1;31mThe Kernel crashed while executing code in the the current cell or a previous cell. Please review the code in the cell(s) to identify a possible cause of the failure. Click <a href='https://aka.ms/vscodeJupyterKernelCrash'>here</a> for more info. View Jupyter <a href='command:jupyter.viewOutput'>log</a> for further details."
          ]
        }
      ],
      "source": [
        "# SALVAR ARRAYS DAS IMAGENS\n",
        "\n",
        "import pickle\n",
        "try:  \n",
        "    arquivo = open(\"bin/testeX_.bin\", \"wb\")\n",
        "    pickle.dump(X_test, arquivo)\n",
        "    arquivo.close()\n",
        "except:\n",
        "    print(\"Problemas com o arquivo treino.\")\n",
        "    \n",
        "try:  \n",
        "    arquivo = open(\"bin/testeY_.bin\", \"wb\")\n",
        "    pickle.dump(y_test, arquivo)\n",
        "    arquivo.close()\n",
        "except:\n",
        "    print(\"Problemas com o arquivo teste.\")\n",
        "    \n",
        "try:  \n",
        "    arquivo = open(\"bin/treinoX_.bin\", \"wb\")\n",
        "    pickle.dump(X_train, arquivo)\n",
        "    arquivo.close()\n",
        "except:\n",
        "    print(\"Problemas com o arquivo treino.\")\n",
        "    \n",
        "try:  \n",
        "    arquivo = open(\"bin/treinoY_.bin\", \"wb\")\n",
        "    pickle.dump(y_train, arquivo)\n",
        "    arquivo.close()\n",
        "except:\n",
        "    print(\"Problemas com o arquivo teste.\")"
      ]
    },
    {
      "cell_type": "code",
      "execution_count": null,
      "metadata": {},
      "outputs": [],
      "source": [
        "#  LOAD DOS ARRAYS SALVOS\n",
        "\n",
        "import pickle\n",
        "\n",
        "try:\n",
        "    arquivo = open(\"bin/testeX_.bin\", \"rb\")\n",
        "    X_test = pickle.load(arquivo)\n",
        "    arquivo.close()\n",
        "except:\n",
        "    print(\"Problemas com o arquivo treinox.\")\n",
        "    \n",
        "try:\n",
        "    arquivo = open(\"bin/testeY_.bin\", \"rb\")\n",
        "    y_test = pickle.load(arquivo)\n",
        "    arquivo.close()\n",
        "except:\n",
        "    print(\"Problemas com o arquivo treinoy.\")\n",
        "try:\n",
        "    arquivo = open(\"bin/treinoX_.bin\", \"rb\")\n",
        "    X_train = pickle.load(arquivo)\n",
        "    arquivo.close()\n",
        "except:\n",
        "    print(\"Problemas com o arquivo treinox.\")\n",
        "    \n",
        "try:\n",
        "    arquivo = open(\"bin/treinoY_.bin\", \"rb\")\n",
        "    Y_train = pickle.load(arquivo)\n",
        "    arquivo.close()\n",
        "except:\n",
        "    print(\"Problemas com o arquivo treinoy.\")"
      ]
    },
    {
      "cell_type": "code",
      "execution_count": null,
      "metadata": {
        "id": "Yh2fI72laFn1"
      },
      "outputs": [],
      "source": [
        "from tensorflow.keras.utils import to_categorical\n",
        "train_masks_cat = to_categorical(y_train, num_classes=n_classes)\n",
        "y_train_cat = train_masks_cat.reshape((y_train.shape[0], y_train.shape[1], y_train.shape[2], n_classes))\n",
        "\n",
        "test_masks_cat = to_categorical(y_test, num_classes=n_classes)\n",
        "y_test_cat = test_masks_cat.reshape((y_test.shape[0], y_test.shape[1], y_test.shape[2], n_classes))\n",
        "\n"
      ]
    },
    {
      "cell_type": "code",
      "execution_count": null,
      "metadata": {
        "colab": {
          "base_uri": "https://localhost:8080/"
        },
        "id": "CDMoprb5hrvY",
        "outputId": "07ba7bf8-bdad-4648-9b3e-d337b3c6f95c"
      },
      "outputs": [
        {
          "name": "stdout",
          "output_type": "stream",
          "text": [
            "(160, 128, 128, 4)\n"
          ]
        }
      ],
      "source": [
        "print(y_train_cat.shape)"
      ]
    },
    {
      "cell_type": "code",
      "execution_count": null,
      "metadata": {
        "id": "CNEIG7sKaR0D"
      },
      "outputs": [],
      "source": [
        "# Building Unet by dividing encoder and decoder into blocks\n",
        "\n",
        "from keras.models import Model\n",
        "from keras.layers import Input, Conv2D, MaxPooling2D, UpSampling2D, concatenate, Conv2DTranspose, BatchNormalization, Dropout, Lambda\n",
        "from keras.optimizers import Adam\n",
        "from keras.layers import Activation, MaxPool2D, Concatenate\n",
        "\n",
        "\n",
        "def conv_block(input, num_filters):\n",
        "    x = Conv2D(num_filters, 3, padding=\"same\")(input)\n",
        "    x = BatchNormalization()(x)   #Not in the original network. \n",
        "    x = Activation(\"relu\")(x)\n",
        "\n",
        "    x = Conv2D(num_filters, 3, padding=\"same\")(x)\n",
        "    x = BatchNormalization()(x)  #Not in the original network\n",
        "    x = Activation(\"relu\")(x)\n",
        "\n",
        "    return x\n",
        "\n",
        "#Encoder block: Conv block followed by maxpooling\n",
        "\n",
        "\n",
        "def encoder_block(input, num_filters):\n",
        "    x = conv_block(input, num_filters)\n",
        "    p = MaxPool2D((2, 2))(x)\n",
        "    return x, p   \n",
        "\n",
        "#Decoder block\n",
        "#skip features gets input from encoder for concatenation\n",
        "\n",
        "def decoder_block(input, skip_features, num_filters):\n",
        "    x = Conv2DTranspose(num_filters, (2, 2), strides=2, padding=\"same\")(input)\n",
        "    x = Concatenate()([x, skip_features])\n",
        "    x = conv_block(x, num_filters)\n",
        "    return x\n",
        "\n",
        "#Build Unet using the blocks\n",
        "def build_unet(input_shape, n_classes):\n",
        "    inputs = Input(input_shape)\n",
        "\n",
        "    s1, p1 = encoder_block(inputs, 64)\n",
        "    s2, p2 = encoder_block(p1, 128)\n",
        "    s3, p3 = encoder_block(p2, 256)\n",
        "    s4, p4 = encoder_block(p3, 512)\n",
        "\n",
        "    b1 = conv_block(p4, 1024) #Bridge\n",
        "\n",
        "    d1 = decoder_block(b1, s4, 512)\n",
        "    d2 = decoder_block(d1, s3, 256)\n",
        "    d3 = decoder_block(d2, s2, 128)\n",
        "    d4 = decoder_block(d3, s1, 64)\n",
        "\n",
        "    if n_classes == 1:  #Binary\n",
        "      activation = 'sigmoid'\n",
        "    else:\n",
        "      activation = 'softmax'\n",
        "\n",
        "    outputs = Conv2D(n_classes, 1, padding=\"same\", activation=activation)(d4)  #Change the activation based on n_classes\n",
        "    print(activation)\n",
        "\n",
        "    model = Model(inputs, outputs, name=\"U-Net\")\n",
        "    return model"
      ]
    },
    {
      "cell_type": "code",
      "execution_count": null,
      "metadata": {
        "id": "o3IGtgOAaJcC"
      },
      "outputs": [],
      "source": [
        "SIZE_X = X_train.shape[1]\n",
        "SIZE_X  = X_train.shape[2]\n",
        "IMG_CHANNELS = X_train.shape[3]\n",
        "input_shape = (SIZE_X, SIZE_X, IMG_CHANNELS)"
      ]
    },
    {
      "cell_type": "code",
      "execution_count": null,
      "metadata": {
        "colab": {
          "base_uri": "https://localhost:8080/"
        },
        "id": "HcQp3wxCaTZw",
        "outputId": "eaa198f6-cc50-4aa6-a635-bedff8c0e71e"
      },
      "outputs": [
        {
          "name": "stdout",
          "output_type": "stream",
          "text": [
            "softmax\n",
            "Model: \"U-Net\"\n",
            "__________________________________________________________________________________________________\n",
            "Layer (type)                    Output Shape         Param #     Connected to                     \n",
            "==================================================================================================\n",
            "input_1 (InputLayer)            [(None, 128, 128, 1) 0                                            \n",
            "__________________________________________________________________________________________________\n",
            "conv2d (Conv2D)                 (None, 128, 128, 64) 640         input_1[0][0]                    \n",
            "__________________________________________________________________________________________________\n",
            "batch_normalization (BatchNorma (None, 128, 128, 64) 256         conv2d[0][0]                     \n",
            "__________________________________________________________________________________________________\n",
            "activation (Activation)         (None, 128, 128, 64) 0           batch_normalization[0][0]        \n",
            "__________________________________________________________________________________________________\n",
            "conv2d_1 (Conv2D)               (None, 128, 128, 64) 36928       activation[0][0]                 \n",
            "__________________________________________________________________________________________________\n",
            "batch_normalization_1 (BatchNor (None, 128, 128, 64) 256         conv2d_1[0][0]                   \n",
            "__________________________________________________________________________________________________\n",
            "activation_1 (Activation)       (None, 128, 128, 64) 0           batch_normalization_1[0][0]      \n",
            "__________________________________________________________________________________________________\n",
            "max_pooling2d (MaxPooling2D)    (None, 64, 64, 64)   0           activation_1[0][0]               \n",
            "__________________________________________________________________________________________________\n",
            "conv2d_2 (Conv2D)               (None, 64, 64, 128)  73856       max_pooling2d[0][0]              \n",
            "__________________________________________________________________________________________________\n",
            "batch_normalization_2 (BatchNor (None, 64, 64, 128)  512         conv2d_2[0][0]                   \n",
            "__________________________________________________________________________________________________\n",
            "activation_2 (Activation)       (None, 64, 64, 128)  0           batch_normalization_2[0][0]      \n",
            "__________________________________________________________________________________________________\n",
            "conv2d_3 (Conv2D)               (None, 64, 64, 128)  147584      activation_2[0][0]               \n",
            "__________________________________________________________________________________________________\n",
            "batch_normalization_3 (BatchNor (None, 64, 64, 128)  512         conv2d_3[0][0]                   \n",
            "__________________________________________________________________________________________________\n",
            "activation_3 (Activation)       (None, 64, 64, 128)  0           batch_normalization_3[0][0]      \n",
            "__________________________________________________________________________________________________\n",
            "max_pooling2d_1 (MaxPooling2D)  (None, 32, 32, 128)  0           activation_3[0][0]               \n",
            "__________________________________________________________________________________________________\n",
            "conv2d_4 (Conv2D)               (None, 32, 32, 256)  295168      max_pooling2d_1[0][0]            \n",
            "__________________________________________________________________________________________________\n",
            "batch_normalization_4 (BatchNor (None, 32, 32, 256)  1024        conv2d_4[0][0]                   \n",
            "__________________________________________________________________________________________________\n",
            "activation_4 (Activation)       (None, 32, 32, 256)  0           batch_normalization_4[0][0]      \n",
            "__________________________________________________________________________________________________\n",
            "conv2d_5 (Conv2D)               (None, 32, 32, 256)  590080      activation_4[0][0]               \n",
            "__________________________________________________________________________________________________\n",
            "batch_normalization_5 (BatchNor (None, 32, 32, 256)  1024        conv2d_5[0][0]                   \n",
            "__________________________________________________________________________________________________\n",
            "activation_5 (Activation)       (None, 32, 32, 256)  0           batch_normalization_5[0][0]      \n",
            "__________________________________________________________________________________________________\n",
            "max_pooling2d_2 (MaxPooling2D)  (None, 16, 16, 256)  0           activation_5[0][0]               \n",
            "__________________________________________________________________________________________________\n",
            "conv2d_6 (Conv2D)               (None, 16, 16, 512)  1180160     max_pooling2d_2[0][0]            \n",
            "__________________________________________________________________________________________________\n",
            "batch_normalization_6 (BatchNor (None, 16, 16, 512)  2048        conv2d_6[0][0]                   \n",
            "__________________________________________________________________________________________________\n",
            "activation_6 (Activation)       (None, 16, 16, 512)  0           batch_normalization_6[0][0]      \n",
            "__________________________________________________________________________________________________\n",
            "conv2d_7 (Conv2D)               (None, 16, 16, 512)  2359808     activation_6[0][0]               \n",
            "__________________________________________________________________________________________________\n",
            "batch_normalization_7 (BatchNor (None, 16, 16, 512)  2048        conv2d_7[0][0]                   \n",
            "__________________________________________________________________________________________________\n",
            "activation_7 (Activation)       (None, 16, 16, 512)  0           batch_normalization_7[0][0]      \n",
            "__________________________________________________________________________________________________\n",
            "max_pooling2d_3 (MaxPooling2D)  (None, 8, 8, 512)    0           activation_7[0][0]               \n",
            "__________________________________________________________________________________________________\n",
            "conv2d_8 (Conv2D)               (None, 8, 8, 1024)   4719616     max_pooling2d_3[0][0]            \n",
            "__________________________________________________________________________________________________\n",
            "batch_normalization_8 (BatchNor (None, 8, 8, 1024)   4096        conv2d_8[0][0]                   \n",
            "__________________________________________________________________________________________________\n",
            "activation_8 (Activation)       (None, 8, 8, 1024)   0           batch_normalization_8[0][0]      \n",
            "__________________________________________________________________________________________________\n",
            "conv2d_9 (Conv2D)               (None, 8, 8, 1024)   9438208     activation_8[0][0]               \n",
            "__________________________________________________________________________________________________\n",
            "batch_normalization_9 (BatchNor (None, 8, 8, 1024)   4096        conv2d_9[0][0]                   \n",
            "__________________________________________________________________________________________________\n",
            "activation_9 (Activation)       (None, 8, 8, 1024)   0           batch_normalization_9[0][0]      \n",
            "__________________________________________________________________________________________________\n",
            "conv2d_transpose (Conv2DTranspo (None, 16, 16, 512)  2097664     activation_9[0][0]               \n",
            "__________________________________________________________________________________________________\n",
            "concatenate (Concatenate)       (None, 16, 16, 1024) 0           conv2d_transpose[0][0]           \n",
            "                                                                 activation_7[0][0]               \n",
            "__________________________________________________________________________________________________\n",
            "conv2d_10 (Conv2D)              (None, 16, 16, 512)  4719104     concatenate[0][0]                \n",
            "__________________________________________________________________________________________________\n",
            "batch_normalization_10 (BatchNo (None, 16, 16, 512)  2048        conv2d_10[0][0]                  \n",
            "__________________________________________________________________________________________________\n",
            "activation_10 (Activation)      (None, 16, 16, 512)  0           batch_normalization_10[0][0]     \n",
            "__________________________________________________________________________________________________\n",
            "conv2d_11 (Conv2D)              (None, 16, 16, 512)  2359808     activation_10[0][0]              \n",
            "__________________________________________________________________________________________________\n",
            "batch_normalization_11 (BatchNo (None, 16, 16, 512)  2048        conv2d_11[0][0]                  \n",
            "__________________________________________________________________________________________________\n",
            "activation_11 (Activation)      (None, 16, 16, 512)  0           batch_normalization_11[0][0]     \n",
            "__________________________________________________________________________________________________\n",
            "conv2d_transpose_1 (Conv2DTrans (None, 32, 32, 256)  524544      activation_11[0][0]              \n",
            "__________________________________________________________________________________________________\n",
            "concatenate_1 (Concatenate)     (None, 32, 32, 512)  0           conv2d_transpose_1[0][0]         \n",
            "                                                                 activation_5[0][0]               \n",
            "__________________________________________________________________________________________________\n",
            "conv2d_12 (Conv2D)              (None, 32, 32, 256)  1179904     concatenate_1[0][0]              \n",
            "__________________________________________________________________________________________________\n",
            "batch_normalization_12 (BatchNo (None, 32, 32, 256)  1024        conv2d_12[0][0]                  \n",
            "__________________________________________________________________________________________________\n",
            "activation_12 (Activation)      (None, 32, 32, 256)  0           batch_normalization_12[0][0]     \n",
            "__________________________________________________________________________________________________\n",
            "conv2d_13 (Conv2D)              (None, 32, 32, 256)  590080      activation_12[0][0]              \n",
            "__________________________________________________________________________________________________\n",
            "batch_normalization_13 (BatchNo (None, 32, 32, 256)  1024        conv2d_13[0][0]                  \n",
            "__________________________________________________________________________________________________\n",
            "activation_13 (Activation)      (None, 32, 32, 256)  0           batch_normalization_13[0][0]     \n",
            "__________________________________________________________________________________________________\n",
            "conv2d_transpose_2 (Conv2DTrans (None, 64, 64, 128)  131200      activation_13[0][0]              \n",
            "__________________________________________________________________________________________________\n",
            "concatenate_2 (Concatenate)     (None, 64, 64, 256)  0           conv2d_transpose_2[0][0]         \n",
            "                                                                 activation_3[0][0]               \n",
            "__________________________________________________________________________________________________\n",
            "conv2d_14 (Conv2D)              (None, 64, 64, 128)  295040      concatenate_2[0][0]              \n",
            "__________________________________________________________________________________________________\n",
            "batch_normalization_14 (BatchNo (None, 64, 64, 128)  512         conv2d_14[0][0]                  \n",
            "__________________________________________________________________________________________________\n",
            "activation_14 (Activation)      (None, 64, 64, 128)  0           batch_normalization_14[0][0]     \n",
            "__________________________________________________________________________________________________\n",
            "conv2d_15 (Conv2D)              (None, 64, 64, 128)  147584      activation_14[0][0]              \n",
            "__________________________________________________________________________________________________\n",
            "batch_normalization_15 (BatchNo (None, 64, 64, 128)  512         conv2d_15[0][0]                  \n",
            "__________________________________________________________________________________________________\n",
            "activation_15 (Activation)      (None, 64, 64, 128)  0           batch_normalization_15[0][0]     \n",
            "__________________________________________________________________________________________________\n",
            "conv2d_transpose_3 (Conv2DTrans (None, 128, 128, 64) 32832       activation_15[0][0]              \n",
            "__________________________________________________________________________________________________\n",
            "concatenate_3 (Concatenate)     (None, 128, 128, 128 0           conv2d_transpose_3[0][0]         \n",
            "                                                                 activation_1[0][0]               \n",
            "__________________________________________________________________________________________________\n",
            "conv2d_16 (Conv2D)              (None, 128, 128, 64) 73792       concatenate_3[0][0]              \n",
            "__________________________________________________________________________________________________\n",
            "batch_normalization_16 (BatchNo (None, 128, 128, 64) 256         conv2d_16[0][0]                  \n",
            "__________________________________________________________________________________________________\n",
            "activation_16 (Activation)      (None, 128, 128, 64) 0           batch_normalization_16[0][0]     \n",
            "__________________________________________________________________________________________________\n",
            "conv2d_17 (Conv2D)              (None, 128, 128, 64) 36928       activation_16[0][0]              \n",
            "__________________________________________________________________________________________________\n",
            "batch_normalization_17 (BatchNo (None, 128, 128, 64) 256         conv2d_17[0][0]                  \n",
            "__________________________________________________________________________________________________\n",
            "activation_17 (Activation)      (None, 128, 128, 64) 0           batch_normalization_17[0][0]     \n",
            "__________________________________________________________________________________________________\n",
            "conv2d_18 (Conv2D)              (None, 128, 128, 4)  260         activation_17[0][0]              \n",
            "==================================================================================================\n",
            "Total params: 31,054,340\n",
            "Trainable params: 31,042,564\n",
            "Non-trainable params: 11,776\n",
            "__________________________________________________________________________________________________\n"
          ]
        }
      ],
      "source": [
        "model = build_unet(input_shape, n_classes=4)\n",
        "model.compile(optimizer='adam', loss='categorical_crossentropy', metrics=['accuracy'])\n",
        "model.summary()"
      ]
    },
    {
      "cell_type": "code",
      "execution_count": null,
      "metadata": {
        "colab": {
          "base_uri": "https://localhost:8080/"
        },
        "id": "LmcYufmuaeUz",
        "outputId": "1e547c95-01a1-4ec2-a5da-b321bc959826"
      },
      "outputs": [
        {
          "name": "stdout",
          "output_type": "stream",
          "text": [
            "Epoch 1/50\n",
            "60/60 [==============================] - 40s 259ms/step - loss: 0.3228 - accuracy: 0.9091 - val_loss: 27.7621 - val_accuracy: 0.0338\n",
            "Epoch 2/50\n",
            "60/60 [==============================] - 14s 234ms/step - loss: 0.1244 - accuracy: 0.9553 - val_loss: 0.8999 - val_accuracy: 0.7886\n",
            "Epoch 3/50\n",
            "60/60 [==============================] - 14s 240ms/step - loss: 0.1043 - accuracy: 0.9605 - val_loss: 1.3919 - val_accuracy: 0.7264\n",
            "Epoch 4/50\n",
            "60/60 [==============================] - 14s 240ms/step - loss: 0.0979 - accuracy: 0.9625 - val_loss: 1.0386 - val_accuracy: 0.7995\n",
            "Epoch 5/50\n",
            "60/60 [==============================] - 15s 246ms/step - loss: 0.0934 - accuracy: 0.9633 - val_loss: 1.3862 - val_accuracy: 0.7157\n",
            "Epoch 6/50\n",
            "60/60 [==============================] - 15s 248ms/step - loss: 0.0888 - accuracy: 0.9649 - val_loss: 1.2477 - val_accuracy: 0.7554\n",
            "Epoch 7/50\n",
            "60/60 [==============================] - 15s 251ms/step - loss: 0.0858 - accuracy: 0.9658 - val_loss: 1.3460 - val_accuracy: 0.7248\n",
            "Epoch 8/50\n",
            "60/60 [==============================] - 15s 252ms/step - loss: 0.0840 - accuracy: 0.9664 - val_loss: 1.0440 - val_accuracy: 0.7647\n",
            "Epoch 9/50\n",
            "60/60 [==============================] - 15s 258ms/step - loss: 0.0801 - accuracy: 0.9678 - val_loss: 0.9890 - val_accuracy: 0.7161\n",
            "Epoch 10/50\n",
            "60/60 [==============================] - 16s 264ms/step - loss: 0.0772 - accuracy: 0.9689 - val_loss: 0.5836 - val_accuracy: 0.7849\n",
            "Epoch 11/50\n",
            "60/60 [==============================] - 16s 265ms/step - loss: 0.0748 - accuracy: 0.9697 - val_loss: 0.3555 - val_accuracy: 0.8630\n",
            "Epoch 12/50\n",
            "60/60 [==============================] - 16s 261ms/step - loss: 0.0719 - accuracy: 0.9709 - val_loss: 0.2300 - val_accuracy: 0.9078\n",
            "Epoch 13/50\n",
            "60/60 [==============================] - 16s 259ms/step - loss: 0.0707 - accuracy: 0.9713 - val_loss: 0.1527 - val_accuracy: 0.9384\n",
            "Epoch 14/50\n",
            "60/60 [==============================] - 16s 260ms/step - loss: 0.0685 - accuracy: 0.9723 - val_loss: 0.2306 - val_accuracy: 0.9038\n",
            "Epoch 15/50\n",
            "60/60 [==============================] - 16s 262ms/step - loss: 0.0669 - accuracy: 0.9728 - val_loss: 0.2124 - val_accuracy: 0.9095\n",
            "Epoch 16/50\n",
            "60/60 [==============================] - 16s 263ms/step - loss: 0.0652 - accuracy: 0.9735 - val_loss: 0.1418 - val_accuracy: 0.9397\n",
            "Epoch 17/50\n",
            "60/60 [==============================] - 16s 263ms/step - loss: 0.0641 - accuracy: 0.9739 - val_loss: 0.1517 - val_accuracy: 0.9367\n",
            "Epoch 18/50\n",
            "60/60 [==============================] - 16s 262ms/step - loss: 0.0626 - accuracy: 0.9746 - val_loss: 0.1745 - val_accuracy: 0.9252\n",
            "Epoch 19/50\n",
            "60/60 [==============================] - 16s 263ms/step - loss: 0.0617 - accuracy: 0.9749 - val_loss: 0.1135 - val_accuracy: 0.9534\n",
            "Epoch 20/50\n",
            "60/60 [==============================] - 16s 263ms/step - loss: 0.0600 - accuracy: 0.9755 - val_loss: 0.1986 - val_accuracy: 0.9167\n",
            "Epoch 21/50\n",
            "60/60 [==============================] - 16s 263ms/step - loss: 0.0589 - accuracy: 0.9760 - val_loss: 0.1512 - val_accuracy: 0.9377\n",
            "Epoch 22/50\n",
            "60/60 [==============================] - 16s 261ms/step - loss: 0.0577 - accuracy: 0.9765 - val_loss: 0.1196 - val_accuracy: 0.9512\n",
            "Epoch 23/50\n",
            "60/60 [==============================] - 16s 261ms/step - loss: 0.0566 - accuracy: 0.9769 - val_loss: 0.1386 - val_accuracy: 0.9441\n",
            "Epoch 24/50\n",
            "60/60 [==============================] - 16s 262ms/step - loss: 0.0553 - accuracy: 0.9775 - val_loss: 0.1299 - val_accuracy: 0.9482\n",
            "Epoch 25/50\n",
            "60/60 [==============================] - 16s 266ms/step - loss: 0.0544 - accuracy: 0.9778 - val_loss: 0.1392 - val_accuracy: 0.9445\n",
            "Epoch 26/50\n",
            "60/60 [==============================] - 16s 264ms/step - loss: 0.0536 - accuracy: 0.9782 - val_loss: 0.2019 - val_accuracy: 0.9166\n",
            "Epoch 27/50\n",
            "60/60 [==============================] - 16s 265ms/step - loss: 0.0530 - accuracy: 0.9783 - val_loss: 0.1615 - val_accuracy: 0.9343\n",
            "Epoch 28/50\n",
            "60/60 [==============================] - 16s 263ms/step - loss: 0.0522 - accuracy: 0.9787 - val_loss: 0.1147 - val_accuracy: 0.9544\n",
            "Epoch 29/50\n",
            "60/60 [==============================] - 16s 265ms/step - loss: 0.0516 - accuracy: 0.9790 - val_loss: 0.1147 - val_accuracy: 0.9552\n",
            "Epoch 30/50\n",
            "60/60 [==============================] - 16s 264ms/step - loss: 0.0509 - accuracy: 0.9793 - val_loss: 0.1081 - val_accuracy: 0.9573\n",
            "Epoch 31/50\n",
            "60/60 [==============================] - 16s 264ms/step - loss: 0.0502 - accuracy: 0.9795 - val_loss: 0.0872 - val_accuracy: 0.9652\n",
            "Epoch 32/50\n",
            "60/60 [==============================] - 16s 262ms/step - loss: 0.0495 - accuracy: 0.9798 - val_loss: 0.0744 - val_accuracy: 0.9700\n",
            "Epoch 33/50\n",
            "60/60 [==============================] - 16s 263ms/step - loss: 0.0487 - accuracy: 0.9800 - val_loss: 0.1179 - val_accuracy: 0.9542\n",
            "Epoch 34/50\n",
            "60/60 [==============================] - 16s 262ms/step - loss: 0.0481 - accuracy: 0.9803 - val_loss: 0.1038 - val_accuracy: 0.9590\n",
            "Epoch 35/50\n",
            "60/60 [==============================] - 16s 264ms/step - loss: 0.0475 - accuracy: 0.9805 - val_loss: 0.0692 - val_accuracy: 0.9721\n",
            "Epoch 36/50\n",
            "60/60 [==============================] - 16s 261ms/step - loss: 0.0470 - accuracy: 0.9807 - val_loss: 0.0971 - val_accuracy: 0.9624\n",
            "Epoch 37/50\n",
            "60/60 [==============================] - 16s 264ms/step - loss: 0.0463 - accuracy: 0.9810 - val_loss: 0.0650 - val_accuracy: 0.9741\n",
            "Epoch 38/50\n",
            "60/60 [==============================] - 16s 262ms/step - loss: 0.0461 - accuracy: 0.9811 - val_loss: 0.0769 - val_accuracy: 0.9698\n",
            "Epoch 39/50\n",
            "60/60 [==============================] - 16s 262ms/step - loss: 0.0467 - accuracy: 0.9809 - val_loss: 0.0986 - val_accuracy: 0.9620\n",
            "Epoch 40/50\n",
            "60/60 [==============================] - 16s 263ms/step - loss: 0.0446 - accuracy: 0.9817 - val_loss: 0.0639 - val_accuracy: 0.9746\n",
            "Epoch 41/50\n",
            "60/60 [==============================] - 16s 261ms/step - loss: 0.0439 - accuracy: 0.9819 - val_loss: 0.0734 - val_accuracy: 0.9708\n",
            "Epoch 42/50\n",
            "60/60 [==============================] - 16s 261ms/step - loss: 0.0434 - accuracy: 0.9821 - val_loss: 0.0664 - val_accuracy: 0.9731\n",
            "Epoch 43/50\n",
            "60/60 [==============================] - 16s 262ms/step - loss: 0.0428 - accuracy: 0.9824 - val_loss: 0.0643 - val_accuracy: 0.9735\n",
            "Epoch 44/50\n",
            "60/60 [==============================] - 16s 263ms/step - loss: 0.0425 - accuracy: 0.9824 - val_loss: 0.0551 - val_accuracy: 0.9774\n",
            "Epoch 45/50\n",
            "60/60 [==============================] - 16s 265ms/step - loss: 0.0421 - accuracy: 0.9827 - val_loss: 0.0525 - val_accuracy: 0.9786\n",
            "Epoch 46/50\n",
            "60/60 [==============================] - 16s 265ms/step - loss: 0.0413 - accuracy: 0.9830 - val_loss: 0.0525 - val_accuracy: 0.9786\n",
            "Epoch 47/50\n",
            "60/60 [==============================] - 16s 263ms/step - loss: 0.0403 - accuracy: 0.9834 - val_loss: 0.0647 - val_accuracy: 0.9737\n",
            "Epoch 48/50\n",
            "60/60 [==============================] - 16s 262ms/step - loss: 0.0396 - accuracy: 0.9837 - val_loss: 0.1080 - val_accuracy: 0.9578\n",
            "Epoch 49/50\n",
            "60/60 [==============================] - 16s 261ms/step - loss: 0.0411 - accuracy: 0.9831 - val_loss: 0.1664 - val_accuracy: 0.9354\n",
            "Epoch 50/50\n",
            "60/60 [==============================] - 16s 260ms/step - loss: 0.0423 - accuracy: 0.9826 - val_loss: 0.0535 - val_accuracy: 0.9785\n"
          ]
        }
      ],
      "source": [
        "history = model.fit(X_train, y_train_cat, \n",
        "                    batch_size = 16, \n",
        "                    verbose=1, \n",
        "                    epochs=50, \n",
        "                    validation_data=(X_test, y_test_cat), \n",
        "                    shuffle=False)"
      ]
    },
    {
      "cell_type": "code",
      "execution_count": null,
      "metadata": {
        "id": "KQ_NuTmlafmh"
      },
      "outputs": [],
      "source": [
        "#Save the model for future use\n",
        "model.save('/content/drive/MyDrive/Colab Notebooks/saved_models/tutorial119_sandstone_50epochs.hdf5')"
      ]
    },
    {
      "cell_type": "code",
      "execution_count": null,
      "metadata": {
        "colab": {
          "base_uri": "https://localhost:8080/",
          "height": 573
        },
        "id": "iVibZ6c1ao7P",
        "outputId": "c9fb159a-53cd-456a-aff2-b0af62640283"
      },
      "outputs": [
        {
          "data": {
            "image/png": "[encoded data removed]",
            "text/plain": [
              "<Figure size 432x288 with 1 Axes>"
            ]
          },
          "metadata": {
            "needs_background": "light",
            "tags": []
          },
          "output_type": "display_data"
        },
        {
          "data": {
            "image/png": "[encoded data removed]",
            "text/plain": [
              "<Figure size 432x288 with 1 Axes>"
            ]
          },
          "metadata": {
            "needs_background": "light",
            "tags": []
          },
          "output_type": "display_data"
        }
      ],
      "source": [
        "###\n",
        "#plot the training and validation accuracy and loss at each epoch\n",
        "loss = history.history['loss']\n",
        "val_loss = history.history['val_loss']\n",
        "epochs = range(1, len(loss) + 1)\n",
        "plt.plot(epochs, loss, 'y', label='Training loss')\n",
        "plt.plot(epochs, val_loss, 'r', label='Validation loss')\n",
        "plt.title('Training and validation loss')\n",
        "plt.xlabel('Epochs')\n",
        "plt.ylabel('Loss')\n",
        "plt.legend()\n",
        "plt.show()\n",
        "\n",
        "acc = history.history['accuracy']\n",
        "val_acc = history.history['val_accuracy']\n",
        "\n",
        "plt.plot(epochs, acc, 'y', label='Training Accuracy')\n",
        "plt.plot(epochs, val_acc, 'r', label='Validation Accuracy')\n",
        "plt.title('Training and validation Accuracy')\n",
        "plt.xlabel('Epochs')\n",
        "plt.ylabel('Accuracy')\n",
        "plt.legend()\n",
        "plt.show()"
      ]
    },
    {
      "cell_type": "code",
      "execution_count": null,
      "metadata": {
        "id": "RO7ACKoBapui"
      },
      "outputs": [],
      "source": [
        "\n",
        "        #Load previously saved model\n",
        "from keras.models import load_model\n",
        "model = load_model(\"/content/drive/MyDrive/Colab Notebooks/saved_models/tutorial119_sandstone_50epochs.hdf5\", compile=False)"
      ]
    },
    {
      "cell_type": "code",
      "execution_count": null,
      "metadata": {
        "id": "UNuftNH18ZoY"
      },
      "outputs": [],
      "source": [
        "y_pred=model.predict(X_test)"
      ]
    },
    {
      "cell_type": "code",
      "execution_count": null,
      "metadata": {
        "colab": {
          "base_uri": "https://localhost:8080/"
        },
        "id": "b_SF6IU38cxw",
        "outputId": "b1a4ac40-a3e9-40e7-95d7-b249ed13f6c6"
      },
      "outputs": [
        {
          "data": {
            "text/plain": [
              "(40, 128, 128, 4)"
            ]
          },
          "execution_count": 18,
          "metadata": {
            "tags": []
          },
          "output_type": "execute_result"
        }
      ],
      "source": [
        "y_pred.shape"
      ]
    },
    {
      "cell_type": "code",
      "execution_count": null,
      "metadata": {
        "colab": {
          "base_uri": "https://localhost:8080/"
        },
        "id": "drpgFz-SjPq3",
        "outputId": "6934927b-6610-4784-b8dd-f75c7c320a78"
      },
      "outputs": [
        {
          "data": {
            "text/plain": [
              "(40, 128, 128)"
            ]
          },
          "execution_count": 19,
          "metadata": {
            "tags": []
          },
          "output_type": "execute_result"
        }
      ],
      "source": [
        "y_pred_argmax=np.argmax(y_pred, axis=3)\n",
        "y_pred_argmax.shape"
      ]
    },
    {
      "cell_type": "code",
      "execution_count": null,
      "metadata": {
        "colab": {
          "base_uri": "https://localhost:8080/"
        },
        "id": "5panJLTGawJx",
        "outputId": "d195ca02-d42d-4388-a587-4ce8d7a7fcb7"
      },
      "outputs": [
        {
          "name": "stdout",
          "output_type": "stream",
          "text": [
            "Mean IoU = 0.92037\n"
          ]
        }
      ],
      "source": [
        "#Using built in keras function\n",
        "from keras.metrics import MeanIoU\n",
        "n_classes = 4\n",
        "IOU_keras = MeanIoU(num_classes=n_classes)  \n",
        "IOU_keras.update_state(y_test[:,:,:,0], y_pred_argmax)\n",
        "print(\"Mean IoU =\", IOU_keras.result().numpy())"
      ]
    },
    {
      "cell_type": "code",
      "execution_count": null,
      "metadata": {
        "colab": {
          "base_uri": "https://localhost:8080/"
        },
        "id": "hgHHa8q9axAx",
        "outputId": "de3de859-7ca6-4f81-8d2d-a97501f6f3a1"
      },
      "outputs": [
        {
          "name": "stdout",
          "output_type": "stream",
          "text": [
            "[[1.03736e+05 7.37000e+02 4.82000e+02 0.00000e+00]\n",
            " [3.53700e+03 3.60980e+04 1.87300e+03 0.00000e+00]\n",
            " [2.12300e+03 2.98700e+03 4.87613e+05 4.37000e+02]\n",
            " [1.00000e+00 0.00000e+00 1.78000e+02 1.55580e+04]]\n",
            "IoU for class1 is:  0.93780285\n",
            "IoU for class2 is:  0.79806334\n",
            "IoU for class3 is:  0.98369956\n",
            "IoU for class4 is:  0.9619142\n"
          ]
        }
      ],
      "source": [
        "#To calculate I0U for each class...\n",
        "values = np.array(IOU_keras.get_weights()).reshape(n_classes, n_classes)\n",
        "print(values)\n",
        "class1_IoU = values[0,0]/(values[0,0] + values[0,1] + values[0,2] + values[0,3] + values[1,0]+ values[2,0]+ values[3,0])\n",
        "class2_IoU = values[1,1]/(values[1,1] + values[1,0] + values[1,2] + values[1,3] + values[0,1]+ values[2,1]+ values[3,1])\n",
        "class3_IoU = values[2,2]/(values[2,2] + values[2,0] + values[2,1] + values[2,3] + values[0,2]+ values[1,2]+ values[3,2])\n",
        "class4_IoU = values[3,3]/(values[3,3] + values[3,0] + values[3,1] + values[3,2] + values[0,3]+ values[1,3]+ values[2,3])\n",
        "\n",
        "print(\"IoU for class1 is: \", class1_IoU)\n",
        "print(\"IoU for class2 is: \", class2_IoU)\n",
        "print(\"IoU for class3 is: \", class3_IoU)\n",
        "print(\"IoU for class4 is: \", class4_IoU)\n",
        "\n"
      ]
    },
    {
      "cell_type": "code",
      "execution_count": null,
      "metadata": {
        "colab": {
          "base_uri": "https://localhost:8080/",
          "height": 261
        },
        "id": "zW-IdHfAa2f6",
        "outputId": "68a6eb40-1f74-4f90-b489-6375a473151f"
      },
      "outputs": [
        {
          "data": {
            "image/png": "[encoded data removed]",
            "text/plain": [
              "<Figure size 864x576 with 3 Axes>"
            ]
          },
          "metadata": {
            "needs_background": "light",
            "tags": []
          },
          "output_type": "display_data"
        }
      ],
      "source": [
        "#Predict on a few images\n",
        "#model = get_model()\n",
        "#model.load_weights('???.hdf5')  \n",
        "import random\n",
        "test_img_number = random.randint(0, len(X_test)-1)\n",
        "test_img = X_test[test_img_number]\n",
        "ground_truth=y_test[test_img_number]\n",
        "test_img_norm=test_img[:,:,0][:,:,None]\n",
        "test_img_input=np.expand_dims(test_img_norm, 0)\n",
        "prediction = (model.predict(test_img_input))\n",
        "predicted_img=np.argmax(prediction, axis=3)[0,:,:]\n",
        "\n",
        "\n",
        "plt.figure(figsize=(12, 8))\n",
        "plt.subplot(231)\n",
        "plt.title('Testing Image')\n",
        "plt.imshow(test_img[:,:,0], cmap='gray')\n",
        "plt.subplot(232)\n",
        "plt.title('Testing Label')\n",
        "plt.imshow(ground_truth[:,:,0], cmap='jet')\n",
        "plt.subplot(233)\n",
        "plt.title('Prediction on test image')\n",
        "plt.imshow(predicted_img, cmap='jet')\n",
        "plt.show()"
      ]
    }
  ],
  "metadata": {
    "accelerator": "GPU",
    "colab": {
      "authorship_tag": "ABX9TyNh0U+v2EtxiJ6GesFrR7ku",
      "collapsed_sections": [],
      "include_colab_link": true,
      "mount_file_id": "1RvuTk-Scq7viDQTc1Y2kDMNsD1xHXFyK",
      "name": "tutorial119_multiclass_semantic_segmentation.ipynb",
      "provenance": []
    },
    "kernelspec": {
      "display_name": "Python (tf-cudnn8.6)",
      "language": "python",
      "name": "tfgpu"
    },
    "language_info": {
      "codemirror_mode": {
        "name": "ipython",
        "version": 3
      },
      "file_extension": ".py",
      "mimetype": "text/x-python",
      "name": "python",
      "nbconvert_exporter": "python",
      "pygments_lexer": "ipython3",
      "version": "3.10.11"
    }
  },
  "nbformat": 4,
  "nbformat_minor": 0
}
